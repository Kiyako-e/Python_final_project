{
  "cells": [
    {
      "cell_type": "markdown",
      "metadata": {
        "id": "OZrAKUzaf-VR"
      },
      "source": [
        "#Реализация метода ближайших соседей и кросс-валидации"
      ]
    },
    {
      "cell_type": "code",
      "execution_count": 1,
      "metadata": {
        "id": "zPkeEZtCcKgO"
      },
      "outputs": [],
      "source": [
        "import numpy as np\n",
        "from sklearn.neighbors import NearestNeighbors"
      ]
    },
    {
      "cell_type": "markdown",
      "metadata": {
        "id": "NQREqspukXFZ"
      },
      "source": [
        "Реализация функции для вычисления расстояния:\n",
        "- `euclidean_distance(X, Y)` — реализация евклидова расстояния с заданными свойствами;\n",
        "- `cosine_distance(X, Y)` — реализация косинусного расстояния с заданными свойствами;"
      ]
    },
    {
      "cell_type": "code",
      "execution_count": 2,
      "metadata": {
        "id": "v2Fg-GKlepYE"
      },
      "outputs": [],
      "source": [
        "def euclidean_distance(X, Y):\n",
        "    output = np.sqrt(np.subtract(np.add.outer(np.sum(X ** 2, axis=1), np.sum(Y ** 2, axis=1)), 2 * np.dot(X, Y.T)))\n",
        "    return output\n",
        "\n",
        "\n",
        "def cosine_distance(X, Y):\n",
        "    output = X.dot(Y.T) / ((np.sqrt(np.sum(X ** 2, axis=1))).reshape((-1, 1)) * np.sqrt(np.sum(Y ** 2, axis=1)))\n",
        "    return 1 - output"
      ]
    },
    {
      "cell_type": "markdown",
      "metadata": {
        "id": "N26wwxn_j_g-"
      },
      "source": [
        "Класс `NearestNeighborsFinder` с методами:\n",
        "- `__init__(self, n_neighbors, metric=\"euclidean\")` — конструктор (инициализатор) класса;\n",
        "- `fit(self, X, y=None)` — обучение алгоритма;\n",
        "- `kneighbors(self, X, return_distance=False)` — поиск ближайших соседей.\n"
      ]
    },
    {
      "cell_type": "code",
      "execution_count": 3,
      "metadata": {
        "id": "FN0muraRepd4"
      },
      "outputs": [],
      "source": [
        "class NearestNeighborsFinder:\n",
        "    def __init__(self, n_neighbors, metric=\"euclidean\"):\n",
        "        self.n_neighbors = n_neighbors\n",
        "\n",
        "        if metric == \"euclidean\":\n",
        "            self._metric_func = euclidean_distance\n",
        "        elif metric == \"cosine\":\n",
        "            self._metric_func = cosine_distance\n",
        "        else:\n",
        "            raise ValueError(\"Metric is not supported\", metric)\n",
        "        self.metric = metric\n",
        "\n",
        "    def fit(self, X, y=None):\n",
        "        self._X = X\n",
        "        return self\n",
        "\n",
        "    def kneighbors(self, X, return_distance=False):\n",
        "        dists = self._metric_func(X, self._X)\n",
        "        knns = np.argpartition(dists, self.n_neighbors, axis=1)\n",
        "        dists = np.partition(dists, self.n_neighbors, axis=1)\n",
        "        dists = dists[:, :self.n_neighbors]\n",
        "        knns = knns[:, :self.n_neighbors]\n",
        "        knns = np.take_along_axis(knns, np.argsort(dists, axis=1), axis=1)\n",
        "        if return_distance:\n",
        "            return np.sort(dists, axis=1), knns\n",
        "        return knns"
      ]
    },
    {
      "cell_type": "markdown",
      "metadata": {
        "id": "qCdw6Wvminwe"
      },
      "source": [
        "Класс `KNNClassifier` с методами:\n",
        "    \n",
        "- `__init__(self, n_neighbors, algorithm=’my_own’, metric=’euclidean’, weights=’uniform’)` — конструктор (инициализатор) класса;\n",
        "- `fit(self, X, y=None)` — обучение алгоритма;\n",
        "- `kneighbors(self, X, return_distance=False)` — поиск ближайших соседей;\n",
        "- `predict(self, X)` — редсказание на новых данных;\n",
        "- `_predict_precomputed(self, indices, distances)` — вспомогательный метод."
      ]
    },
    {
      "cell_type": "code",
      "execution_count": 4,
      "metadata": {
        "id": "S2065YLtepg1"
      },
      "outputs": [],
      "source": [
        "class KNNClassifier:\n",
        "    EPS = 1e-5\n",
        "\n",
        "    def __init__(self, n_neighbors, algorithm='my_own', metric='euclidean', weights='uniform'):\n",
        "        if algorithm == 'my_own':\n",
        "            finder = NearestNeighborsFinder(n_neighbors=n_neighbors, metric=metric)\n",
        "        elif algorithm in ('brute', 'ball_tree', 'kd_tree',):\n",
        "            finder = NearestNeighbors(n_neighbors=n_neighbors, algorithm=algorithm, metric=metric)\n",
        "        else:\n",
        "            raise ValueError(\"Algorithm is not supported\", metric)\n",
        "\n",
        "        if weights not in ('uniform', 'distance'):\n",
        "            raise ValueError(\"Weighted algorithm is not supported\", weights)\n",
        "\n",
        "        self._finder = finder\n",
        "        self._weights = weights\n",
        "\n",
        "    def fit(self, X, y=None):\n",
        "        self._finder.fit(X)\n",
        "        self._labels = np.asarray(y)\n",
        "        return self\n",
        "\n",
        "    def _predict_precomputed(self, indices, distances):\n",
        "        if self._weights == 'uniform':\n",
        "            weights = np.ones((distances.shape[0], distances.shape[1]))\n",
        "        else:\n",
        "            weights = 1 / (distances + self.EPS)\n",
        "        distinct_labels = np.array(list(set(self._labels)))\n",
        "        neigh_labels = self._labels[indices]\n",
        "        weighted_scores = ((neigh_labels[:, :, np.newaxis] == distinct_labels) *\n",
        "                           weights[:, :, np.newaxis]).sum(axis=1)\n",
        "        return distinct_labels[weighted_scores.argmax(axis=1)]\n",
        "\n",
        "    def kneighbors(self, X, return_distance=False):\n",
        "        return self._finder.kneighbors(X, return_distance=return_distance)\n",
        "\n",
        "    def predict(self, X):\n",
        "        distances, indices = self.kneighbors(X, return_distance=True)\n",
        "        return self._predict_precomputed(indices, distances)"
      ]
    },
    {
      "cell_type": "markdown",
      "metadata": {
        "id": "bEqL_cfLh-e1"
      },
      "source": [
        "Класс `BatchedKNNClassifier`с методами:\n",
        "   \n",
        "- `kneighbors(self, X, return_distance=False)` — поиск ближайших соседей, разбитый на несколько итераций по батчам"
      ]
    },
    {
      "cell_type": "code",
      "execution_count": 5,
      "metadata": {
        "id": "j0rHoOu7epjW"
      },
      "outputs": [],
      "source": [
        "class BatchedKNNClassifier(KNNClassifier):\n",
        "    '''\n",
        "    Нам нужен этот класс, потому что мы хотим поддержку обработки батчами\n",
        "    в том числе для классов поиска соседей из sklearn\n",
        "    '''\n",
        "\n",
        "    def __init__(self, n_neighbors, algorithm='my_own', metric='euclidean', weights='uniform', batch_size=None):\n",
        "        KNNClassifier.__init__(\n",
        "            self,\n",
        "            n_neighbors=n_neighbors,\n",
        "            algorithm=algorithm,\n",
        "            weights=weights,\n",
        "            metric=metric,\n",
        "        )\n",
        "        self._batch_size = batch_size\n",
        "\n",
        "    def kneighbors(self, X, return_distance=False):\n",
        "        if self._batch_size is None or self._batch_size >= X.shape[0]:\n",
        "            return super().kneighbors(X, return_distance=return_distance)\n",
        "        else:\n",
        "            if return_distance:\n",
        "                dists = []\n",
        "                indexes = []\n",
        "                for i_min in range(0, X.shape[0], self._batch_size):\n",
        "                    i_max = min(i_min + self._batch_size, X.shape[0])\n",
        "                    dist, ind = super().kneighbors(X[i_min:i_max], return_distance=return_distance)\n",
        "                    dists.append(dist)\n",
        "                    indexes.append(ind)\n",
        "                return np.vstack(dists), np.vstack(indexes)\n",
        "            else:\n",
        "                indexes = []\n",
        "                for i_min in range(0, X.shape[0], self._batch_size):\n",
        "                    i_max = min(i_min + self._batch_size, X.shape[0])\n",
        "                    ind = super().kneighbors(X[i_min:i_max], return_distance=return_distance)\n",
        "                    indexes.append(ind)\n",
        "                return np.vstack(indexes)"
      ]
    },
    {
      "cell_type": "markdown",
      "metadata": {
        "id": "e_1l_TDkgu7P"
      },
      "source": [
        "\n",
        "\n",
        "`\n",
        "knn_cross_val_score*(X, y, k_list, scoring, cv=None, **kwargs)\n",
        "` — функция для измерения качества на кросс-валидации"
      ]
    },
    {
      "cell_type": "code",
      "execution_count": 6,
      "metadata": {
        "id": "ZLiBF5hvepm1"
      },
      "outputs": [],
      "source": [
        "from collections import defaultdict\n",
        "from sklearn.model_selection import KFold, BaseCrossValidator\n",
        "from sklearn.metrics import accuracy_score\n",
        "import numpy as np\n",
        "\n",
        "\n",
        "def knn_cross_val_score(X, y, k_list, scoring, cv=None, **kwargs):\n",
        "    y = np.asarray(y)\n",
        "\n",
        "    if scoring == \"accuracy\":\n",
        "        scorer = accuracy_score\n",
        "    else:\n",
        "        raise ValueError(\"Unknown scoring metric\", scoring)\n",
        "\n",
        "    if cv is None:\n",
        "        cv = KFold(n_splits=5)\n",
        "    elif not isinstance(cv, BaseCrossValidator):\n",
        "        raise TypeError(\"cv should be BaseCrossValidator instance\", type(cv))\n",
        "\n",
        "    output = defaultdict(list)\n",
        "\n",
        "    for i_train, i_test in cv.split(X):\n",
        "        X_train, y_train = X[i_train], y[i_train]\n",
        "        X_test, y_test = X[i_test], y[i_test]\n",
        "\n",
        "        classifier = BatchedKNNClassifier(n_neighbors=max(k_list), **kwargs)\n",
        "        classifier.fit(X_train, y_train)\n",
        "        dist, indexes = classifier.kneighbors(X_test, return_distance=True)\n",
        "\n",
        "        for k in k_list:\n",
        "            y_predict = classifier._predict_precomputed(indexes[:, :k], dist[:, :k])\n",
        "            output[k].append(scorer(y_test, y_predict))\n",
        "    return output"
      ]
    },
    {
      "cell_type": "markdown",
      "metadata": {
        "id": "XMUmF4j_kiYa"
      },
      "source": [
        "#Протестируем полученный код на винном датасете "
      ]
    },
    {
      "cell_type": "code",
      "execution_count": 7,
      "metadata": {
        "id": "7fv8JdVB1jaO"
      },
      "outputs": [],
      "source": [
        "import pandas as pd\n",
        "import matplotlib.pyplot as plt"
      ]
    },
    {
      "cell_type": "markdown",
      "metadata": {
        "id": "J7oo-vw74CGo"
      },
      "source": [
        "##1. Предобработка датасета"
      ]
    },
    {
      "cell_type": "markdown",
      "metadata": {
        "id": "sSBbvcTo4f96"
      },
      "source": [
        "Загрузим сам датасет:"
      ]
    },
    {
      "cell_type": "code",
      "execution_count": 8,
      "metadata": {
        "colab": {
          "base_uri": "https://localhost:8080/",
          "height": 270
        },
        "id": "Ov1I03xXfBhi",
        "outputId": "04461382-ea19-4ec8-f821-4b891c1da815"
      },
      "outputs": [
        {
          "output_type": "execute_result",
          "data": {
            "text/plain": [
              "   alcohol  malic_acid   ash  alcalinity_of_ash  magnesium  total_phenols  \\\n",
              "0    14.23        1.71  2.43               15.6      127.0           2.80   \n",
              "1    13.20        1.78  2.14               11.2      100.0           2.65   \n",
              "2    13.16        2.36  2.67               18.6      101.0           2.80   \n",
              "3    14.37        1.95  2.50               16.8      113.0           3.85   \n",
              "4    13.24        2.59  2.87               21.0      118.0           2.80   \n",
              "\n",
              "   flavanoids  nonflavanoid_phenols  proanthocyanins  color_intensity   hue  \\\n",
              "0        3.06                  0.28             2.29             5.64  1.04   \n",
              "1        2.76                  0.26             1.28             4.38  1.05   \n",
              "2        3.24                  0.30             2.81             5.68  1.03   \n",
              "3        3.49                  0.24             2.18             7.80  0.86   \n",
              "4        2.69                  0.39             1.82             4.32  1.04   \n",
              "\n",
              "   od280/od315_of_diluted_wines  proline  \n",
              "0                          3.92   1065.0  \n",
              "1                          3.40   1050.0  \n",
              "2                          3.17   1185.0  \n",
              "3                          3.45   1480.0  \n",
              "4                          2.93    735.0  "
            ],
            "text/html": [
              "\n",
              "  <div id=\"df-f28d8eb7-df5f-49b0-8a78-560d72466315\">\n",
              "    <div class=\"colab-df-container\">\n",
              "      <div>\n",
              "<style scoped>\n",
              "    .dataframe tbody tr th:only-of-type {\n",
              "        vertical-align: middle;\n",
              "    }\n",
              "\n",
              "    .dataframe tbody tr th {\n",
              "        vertical-align: top;\n",
              "    }\n",
              "\n",
              "    .dataframe thead th {\n",
              "        text-align: right;\n",
              "    }\n",
              "</style>\n",
              "<table border=\"1\" class=\"dataframe\">\n",
              "  <thead>\n",
              "    <tr style=\"text-align: right;\">\n",
              "      <th></th>\n",
              "      <th>alcohol</th>\n",
              "      <th>malic_acid</th>\n",
              "      <th>ash</th>\n",
              "      <th>alcalinity_of_ash</th>\n",
              "      <th>magnesium</th>\n",
              "      <th>total_phenols</th>\n",
              "      <th>flavanoids</th>\n",
              "      <th>nonflavanoid_phenols</th>\n",
              "      <th>proanthocyanins</th>\n",
              "      <th>color_intensity</th>\n",
              "      <th>hue</th>\n",
              "      <th>od280/od315_of_diluted_wines</th>\n",
              "      <th>proline</th>\n",
              "    </tr>\n",
              "  </thead>\n",
              "  <tbody>\n",
              "    <tr>\n",
              "      <th>0</th>\n",
              "      <td>14.23</td>\n",
              "      <td>1.71</td>\n",
              "      <td>2.43</td>\n",
              "      <td>15.6</td>\n",
              "      <td>127.0</td>\n",
              "      <td>2.80</td>\n",
              "      <td>3.06</td>\n",
              "      <td>0.28</td>\n",
              "      <td>2.29</td>\n",
              "      <td>5.64</td>\n",
              "      <td>1.04</td>\n",
              "      <td>3.92</td>\n",
              "      <td>1065.0</td>\n",
              "    </tr>\n",
              "    <tr>\n",
              "      <th>1</th>\n",
              "      <td>13.20</td>\n",
              "      <td>1.78</td>\n",
              "      <td>2.14</td>\n",
              "      <td>11.2</td>\n",
              "      <td>100.0</td>\n",
              "      <td>2.65</td>\n",
              "      <td>2.76</td>\n",
              "      <td>0.26</td>\n",
              "      <td>1.28</td>\n",
              "      <td>4.38</td>\n",
              "      <td>1.05</td>\n",
              "      <td>3.40</td>\n",
              "      <td>1050.0</td>\n",
              "    </tr>\n",
              "    <tr>\n",
              "      <th>2</th>\n",
              "      <td>13.16</td>\n",
              "      <td>2.36</td>\n",
              "      <td>2.67</td>\n",
              "      <td>18.6</td>\n",
              "      <td>101.0</td>\n",
              "      <td>2.80</td>\n",
              "      <td>3.24</td>\n",
              "      <td>0.30</td>\n",
              "      <td>2.81</td>\n",
              "      <td>5.68</td>\n",
              "      <td>1.03</td>\n",
              "      <td>3.17</td>\n",
              "      <td>1185.0</td>\n",
              "    </tr>\n",
              "    <tr>\n",
              "      <th>3</th>\n",
              "      <td>14.37</td>\n",
              "      <td>1.95</td>\n",
              "      <td>2.50</td>\n",
              "      <td>16.8</td>\n",
              "      <td>113.0</td>\n",
              "      <td>3.85</td>\n",
              "      <td>3.49</td>\n",
              "      <td>0.24</td>\n",
              "      <td>2.18</td>\n",
              "      <td>7.80</td>\n",
              "      <td>0.86</td>\n",
              "      <td>3.45</td>\n",
              "      <td>1480.0</td>\n",
              "    </tr>\n",
              "    <tr>\n",
              "      <th>4</th>\n",
              "      <td>13.24</td>\n",
              "      <td>2.59</td>\n",
              "      <td>2.87</td>\n",
              "      <td>21.0</td>\n",
              "      <td>118.0</td>\n",
              "      <td>2.80</td>\n",
              "      <td>2.69</td>\n",
              "      <td>0.39</td>\n",
              "      <td>1.82</td>\n",
              "      <td>4.32</td>\n",
              "      <td>1.04</td>\n",
              "      <td>2.93</td>\n",
              "      <td>735.0</td>\n",
              "    </tr>\n",
              "  </tbody>\n",
              "</table>\n",
              "</div>\n",
              "      <button class=\"colab-df-convert\" onclick=\"convertToInteractive('df-f28d8eb7-df5f-49b0-8a78-560d72466315')\"\n",
              "              title=\"Convert this dataframe to an interactive table.\"\n",
              "              style=\"display:none;\">\n",
              "        \n",
              "  <svg xmlns=\"http://www.w3.org/2000/svg\" height=\"24px\"viewBox=\"0 0 24 24\"\n",
              "       width=\"24px\">\n",
              "    <path d=\"M0 0h24v24H0V0z\" fill=\"none\"/>\n",
              "    <path d=\"M18.56 5.44l.94 2.06.94-2.06 2.06-.94-2.06-.94-.94-2.06-.94 2.06-2.06.94zm-11 1L8.5 8.5l.94-2.06 2.06-.94-2.06-.94L8.5 2.5l-.94 2.06-2.06.94zm10 10l.94 2.06.94-2.06 2.06-.94-2.06-.94-.94-2.06-.94 2.06-2.06.94z\"/><path d=\"M17.41 7.96l-1.37-1.37c-.4-.4-.92-.59-1.43-.59-.52 0-1.04.2-1.43.59L10.3 9.45l-7.72 7.72c-.78.78-.78 2.05 0 2.83L4 21.41c.39.39.9.59 1.41.59.51 0 1.02-.2 1.41-.59l7.78-7.78 2.81-2.81c.8-.78.8-2.07 0-2.86zM5.41 20L4 18.59l7.72-7.72 1.47 1.35L5.41 20z\"/>\n",
              "  </svg>\n",
              "      </button>\n",
              "      \n",
              "  <style>\n",
              "    .colab-df-container {\n",
              "      display:flex;\n",
              "      flex-wrap:wrap;\n",
              "      gap: 12px;\n",
              "    }\n",
              "\n",
              "    .colab-df-convert {\n",
              "      background-color: #E8F0FE;\n",
              "      border: none;\n",
              "      border-radius: 50%;\n",
              "      cursor: pointer;\n",
              "      display: none;\n",
              "      fill: #1967D2;\n",
              "      height: 32px;\n",
              "      padding: 0 0 0 0;\n",
              "      width: 32px;\n",
              "    }\n",
              "\n",
              "    .colab-df-convert:hover {\n",
              "      background-color: #E2EBFA;\n",
              "      box-shadow: 0px 1px 2px rgba(60, 64, 67, 0.3), 0px 1px 3px 1px rgba(60, 64, 67, 0.15);\n",
              "      fill: #174EA6;\n",
              "    }\n",
              "\n",
              "    [theme=dark] .colab-df-convert {\n",
              "      background-color: #3B4455;\n",
              "      fill: #D2E3FC;\n",
              "    }\n",
              "\n",
              "    [theme=dark] .colab-df-convert:hover {\n",
              "      background-color: #434B5C;\n",
              "      box-shadow: 0px 1px 3px 1px rgba(0, 0, 0, 0.15);\n",
              "      filter: drop-shadow(0px 1px 2px rgba(0, 0, 0, 0.3));\n",
              "      fill: #FFFFFF;\n",
              "    }\n",
              "  </style>\n",
              "\n",
              "      <script>\n",
              "        const buttonEl =\n",
              "          document.querySelector('#df-f28d8eb7-df5f-49b0-8a78-560d72466315 button.colab-df-convert');\n",
              "        buttonEl.style.display =\n",
              "          google.colab.kernel.accessAllowed ? 'block' : 'none';\n",
              "\n",
              "        async function convertToInteractive(key) {\n",
              "          const element = document.querySelector('#df-f28d8eb7-df5f-49b0-8a78-560d72466315');\n",
              "          const dataTable =\n",
              "            await google.colab.kernel.invokeFunction('convertToInteractive',\n",
              "                                                     [key], {});\n",
              "          if (!dataTable) return;\n",
              "\n",
              "          const docLinkHtml = 'Like what you see? Visit the ' +\n",
              "            '<a target=\"_blank\" href=https://colab.research.google.com/notebooks/data_table.ipynb>data table notebook</a>'\n",
              "            + ' to learn more about interactive tables.';\n",
              "          element.innerHTML = '';\n",
              "          dataTable['output_type'] = 'display_data';\n",
              "          await google.colab.output.renderOutput(dataTable, element);\n",
              "          const docLink = document.createElement('div');\n",
              "          docLink.innerHTML = docLinkHtml;\n",
              "          element.appendChild(docLink);\n",
              "        }\n",
              "      </script>\n",
              "    </div>\n",
              "  </div>\n",
              "  "
            ]
          },
          "metadata": {},
          "execution_count": 8
        }
      ],
      "source": [
        "from sklearn.datasets import load_wine\n",
        "\n",
        "wine = load_wine()\n",
        "X = pd.DataFrame(wine['data'], columns=wine['feature_names'])\n",
        "Y = wine['target']\n",
        "X.head()"
      ]
    },
    {
      "cell_type": "code",
      "execution_count": 9,
      "metadata": {
        "colab": {
          "base_uri": "https://localhost:8080/"
        },
        "id": "id8OGySl8VSy",
        "outputId": "7f30df73-d926-466e-feae-4a1adf0af300"
      },
      "outputs": [
        {
          "output_type": "execute_result",
          "data": {
            "text/plain": [
              "array([0, 0, 0, 0, 0, 0, 0, 0, 0, 0, 0, 0, 0, 0, 0, 0, 0, 0, 0, 0, 0, 0,\n",
              "       0, 0, 0, 0, 0, 0, 0, 0, 0, 0, 0, 0, 0, 0, 0, 0, 0, 0, 0, 0, 0, 0,\n",
              "       0, 0, 0, 0, 0, 0, 0, 0, 0, 0, 0, 0, 0, 0, 0, 1, 1, 1, 1, 1, 1, 1,\n",
              "       1, 1, 1, 1, 1, 1, 1, 1, 1, 1, 1, 1, 1, 1, 1, 1, 1, 1, 1, 1, 1, 1,\n",
              "       1, 1, 1, 1, 1, 1, 1, 1, 1, 1, 1, 1, 1, 1, 1, 1, 1, 1, 1, 1, 1, 1,\n",
              "       1, 1, 1, 1, 1, 1, 1, 1, 1, 1, 1, 1, 1, 1, 1, 1, 1, 1, 1, 1, 2, 2,\n",
              "       2, 2, 2, 2, 2, 2, 2, 2, 2, 2, 2, 2, 2, 2, 2, 2, 2, 2, 2, 2, 2, 2,\n",
              "       2, 2, 2, 2, 2, 2, 2, 2, 2, 2, 2, 2, 2, 2, 2, 2, 2, 2, 2, 2, 2, 2,\n",
              "       2, 2])"
            ]
          },
          "metadata": {},
          "execution_count": 9
        }
      ],
      "source": [
        "Y"
      ]
    },
    {
      "cell_type": "code",
      "execution_count": 10,
      "metadata": {
        "colab": {
          "base_uri": "https://localhost:8080/"
        },
        "id": "VYU7rNkQ6ASF",
        "outputId": "3c3a9c77-550d-4ea5-d92e-abe37f52c574"
      },
      "outputs": [
        {
          "output_type": "execute_result",
          "data": {
            "text/plain": [
              "alcohol                         float64\n",
              "malic_acid                      float64\n",
              "ash                             float64\n",
              "alcalinity_of_ash               float64\n",
              "magnesium                       float64\n",
              "total_phenols                   float64\n",
              "flavanoids                      float64\n",
              "nonflavanoid_phenols            float64\n",
              "proanthocyanins                 float64\n",
              "color_intensity                 float64\n",
              "hue                             float64\n",
              "od280/od315_of_diluted_wines    float64\n",
              "proline                         float64\n",
              "dtype: object"
            ]
          },
          "metadata": {},
          "execution_count": 10
        }
      ],
      "source": [
        "X.dtypes"
      ]
    },
    {
      "cell_type": "markdown",
      "metadata": {
        "id": "H76HH-yn6FZH"
      },
      "source": [
        "Все признаки числовые. Т.е. пункт преобразования категориальных признаков мы опускаем))\n",
        "\n",
        "Хотим проверить, есть ли в датасете данные, для которых хотя бы одно значение будет пустым:"
      ]
    },
    {
      "cell_type": "code",
      "execution_count": 11,
      "metadata": {
        "colab": {
          "base_uri": "https://localhost:8080/"
        },
        "id": "cCy59dK54thw",
        "outputId": "d0fb2d61-b0ea-4b80-e47d-1751194ae9d3"
      },
      "outputs": [
        {
          "output_type": "execute_result",
          "data": {
            "text/plain": [
              "(178, 13)"
            ]
          },
          "metadata": {},
          "execution_count": 11
        }
      ],
      "source": [
        "X.shape"
      ]
    },
    {
      "cell_type": "code",
      "execution_count": 12,
      "metadata": {
        "colab": {
          "base_uri": "https://localhost:8080/"
        },
        "id": "lAidipAofBq6",
        "outputId": "77c78ba4-9cde-46dd-c88a-4fdab397fcea"
      },
      "outputs": [
        {
          "output_type": "execute_result",
          "data": {
            "text/plain": [
              "(178, 13)"
            ]
          },
          "metadata": {},
          "execution_count": 12
        }
      ],
      "source": [
        "X.dropna().shape"
      ]
    },
    {
      "cell_type": "markdown",
      "metadata": {
        "id": "P97mG-Sb4wrF"
      },
      "source": [
        "Видим, что если мы удалим строки в которых есть пустые значения, то датасет не изменится, т.е. пропусков нет, и это прекрасно, т.к. мы пропускаем пункт интерпретации null-ов! 🙃"
      ]
    },
    {
      "cell_type": "markdown",
      "metadata": {
        "id": "aASdCKDtCjk1"
      },
      "source": [
        "Разобьем выборку на тестовую и обучающую:"
      ]
    },
    {
      "cell_type": "code",
      "execution_count": 13,
      "metadata": {
        "id": "sy_tMqAM5gzC"
      },
      "outputs": [],
      "source": [
        "from sklearn.model_selection import train_test_split\n",
        "\n",
        "\n",
        "X_train, X_test, Y_train, Y_test = train_test_split(X, Y, test_size=0.25)"
      ]
    },
    {
      "cell_type": "markdown",
      "metadata": {
        "id": "TTWj_SFonFi-"
      },
      "source": [
        "Отмасштабируем вещественные признаки:"
      ]
    },
    {
      "cell_type": "code",
      "execution_count": 14,
      "metadata": {
        "colab": {
          "base_uri": "https://localhost:8080/",
          "height": 206
        },
        "id": "qzNuwRDQClXe",
        "outputId": "bdd39c59-43d4-4d8c-e32b-215a17af1bdf"
      },
      "outputs": [
        {
          "output_type": "execute_result",
          "data": {
            "text/plain": [
              "    alcohol  magnesium\n",
              "0 -1.930967   0.670558\n",
              "1  0.995700   0.759308\n",
              "2  0.788502   1.469311\n",
              "3  0.879151   1.114310\n",
              "4 -1.128076  -1.903201"
            ],
            "text/html": [
              "\n",
              "  <div id=\"df-bce31e07-babf-436b-a280-385ea39a57d9\">\n",
              "    <div class=\"colab-df-container\">\n",
              "      <div>\n",
              "<style scoped>\n",
              "    .dataframe tbody tr th:only-of-type {\n",
              "        vertical-align: middle;\n",
              "    }\n",
              "\n",
              "    .dataframe tbody tr th {\n",
              "        vertical-align: top;\n",
              "    }\n",
              "\n",
              "    .dataframe thead th {\n",
              "        text-align: right;\n",
              "    }\n",
              "</style>\n",
              "<table border=\"1\" class=\"dataframe\">\n",
              "  <thead>\n",
              "    <tr style=\"text-align: right;\">\n",
              "      <th></th>\n",
              "      <th>alcohol</th>\n",
              "      <th>magnesium</th>\n",
              "    </tr>\n",
              "  </thead>\n",
              "  <tbody>\n",
              "    <tr>\n",
              "      <th>0</th>\n",
              "      <td>-1.930967</td>\n",
              "      <td>0.670558</td>\n",
              "    </tr>\n",
              "    <tr>\n",
              "      <th>1</th>\n",
              "      <td>0.995700</td>\n",
              "      <td>0.759308</td>\n",
              "    </tr>\n",
              "    <tr>\n",
              "      <th>2</th>\n",
              "      <td>0.788502</td>\n",
              "      <td>1.469311</td>\n",
              "    </tr>\n",
              "    <tr>\n",
              "      <th>3</th>\n",
              "      <td>0.879151</td>\n",
              "      <td>1.114310</td>\n",
              "    </tr>\n",
              "    <tr>\n",
              "      <th>4</th>\n",
              "      <td>-1.128076</td>\n",
              "      <td>-1.903201</td>\n",
              "    </tr>\n",
              "  </tbody>\n",
              "</table>\n",
              "</div>\n",
              "      <button class=\"colab-df-convert\" onclick=\"convertToInteractive('df-bce31e07-babf-436b-a280-385ea39a57d9')\"\n",
              "              title=\"Convert this dataframe to an interactive table.\"\n",
              "              style=\"display:none;\">\n",
              "        \n",
              "  <svg xmlns=\"http://www.w3.org/2000/svg\" height=\"24px\"viewBox=\"0 0 24 24\"\n",
              "       width=\"24px\">\n",
              "    <path d=\"M0 0h24v24H0V0z\" fill=\"none\"/>\n",
              "    <path d=\"M18.56 5.44l.94 2.06.94-2.06 2.06-.94-2.06-.94-.94-2.06-.94 2.06-2.06.94zm-11 1L8.5 8.5l.94-2.06 2.06-.94-2.06-.94L8.5 2.5l-.94 2.06-2.06.94zm10 10l.94 2.06.94-2.06 2.06-.94-2.06-.94-.94-2.06-.94 2.06-2.06.94z\"/><path d=\"M17.41 7.96l-1.37-1.37c-.4-.4-.92-.59-1.43-.59-.52 0-1.04.2-1.43.59L10.3 9.45l-7.72 7.72c-.78.78-.78 2.05 0 2.83L4 21.41c.39.39.9.59 1.41.59.51 0 1.02-.2 1.41-.59l7.78-7.78 2.81-2.81c.8-.78.8-2.07 0-2.86zM5.41 20L4 18.59l7.72-7.72 1.47 1.35L5.41 20z\"/>\n",
              "  </svg>\n",
              "      </button>\n",
              "      \n",
              "  <style>\n",
              "    .colab-df-container {\n",
              "      display:flex;\n",
              "      flex-wrap:wrap;\n",
              "      gap: 12px;\n",
              "    }\n",
              "\n",
              "    .colab-df-convert {\n",
              "      background-color: #E8F0FE;\n",
              "      border: none;\n",
              "      border-radius: 50%;\n",
              "      cursor: pointer;\n",
              "      display: none;\n",
              "      fill: #1967D2;\n",
              "      height: 32px;\n",
              "      padding: 0 0 0 0;\n",
              "      width: 32px;\n",
              "    }\n",
              "\n",
              "    .colab-df-convert:hover {\n",
              "      background-color: #E2EBFA;\n",
              "      box-shadow: 0px 1px 2px rgba(60, 64, 67, 0.3), 0px 1px 3px 1px rgba(60, 64, 67, 0.15);\n",
              "      fill: #174EA6;\n",
              "    }\n",
              "\n",
              "    [theme=dark] .colab-df-convert {\n",
              "      background-color: #3B4455;\n",
              "      fill: #D2E3FC;\n",
              "    }\n",
              "\n",
              "    [theme=dark] .colab-df-convert:hover {\n",
              "      background-color: #434B5C;\n",
              "      box-shadow: 0px 1px 3px 1px rgba(0, 0, 0, 0.15);\n",
              "      filter: drop-shadow(0px 1px 2px rgba(0, 0, 0, 0.3));\n",
              "      fill: #FFFFFF;\n",
              "    }\n",
              "  </style>\n",
              "\n",
              "      <script>\n",
              "        const buttonEl =\n",
              "          document.querySelector('#df-bce31e07-babf-436b-a280-385ea39a57d9 button.colab-df-convert');\n",
              "        buttonEl.style.display =\n",
              "          google.colab.kernel.accessAllowed ? 'block' : 'none';\n",
              "\n",
              "        async function convertToInteractive(key) {\n",
              "          const element = document.querySelector('#df-bce31e07-babf-436b-a280-385ea39a57d9');\n",
              "          const dataTable =\n",
              "            await google.colab.kernel.invokeFunction('convertToInteractive',\n",
              "                                                     [key], {});\n",
              "          if (!dataTable) return;\n",
              "\n",
              "          const docLinkHtml = 'Like what you see? Visit the ' +\n",
              "            '<a target=\"_blank\" href=https://colab.research.google.com/notebooks/data_table.ipynb>data table notebook</a>'\n",
              "            + ' to learn more about interactive tables.';\n",
              "          element.innerHTML = '';\n",
              "          dataTable['output_type'] = 'display_data';\n",
              "          await google.colab.output.renderOutput(dataTable, element);\n",
              "          const docLink = document.createElement('div');\n",
              "          docLink.innerHTML = docLinkHtml;\n",
              "          element.appendChild(docLink);\n",
              "        }\n",
              "      </script>\n",
              "    </div>\n",
              "  </div>\n",
              "  "
            ]
          },
          "metadata": {},
          "execution_count": 14
        }
      ],
      "source": [
        "from sklearn.preprocessing import StandardScaler\n",
        "\n",
        "#Для тестовой\n",
        "normalizer = StandardScaler()\n",
        "X_real_norm_np = normalizer.fit_transform(X_test[['alcohol', 'magnesium']])\n",
        "X_newTest = pd.DataFrame(data=X_real_norm_np)\n",
        "X_newTest.columns = ['alcohol', 'magnesium']\n",
        "X_newTest.head()"
      ]
    },
    {
      "cell_type": "code",
      "execution_count": 15,
      "metadata": {
        "id": "KZW8y1C-lGQr",
        "outputId": "dad62da6-ea7c-4cdb-b20a-333560a35c82",
        "colab": {
          "base_uri": "https://localhost:8080/",
          "height": 206
        }
      },
      "outputs": [
        {
          "output_type": "execute_result",
          "data": {
            "text/plain": [
              "    alcohol  magnesium\n",
              "0  1.476811   1.796690\n",
              "1  1.269775   1.399747\n",
              "2  0.892240  -0.717283\n",
              "3  1.440275   0.804332\n",
              "4  1.050561  -1.312698"
            ],
            "text/html": [
              "\n",
              "  <div id=\"df-2f2fd052-2ce4-4e5d-8e14-d4743f3c1afc\">\n",
              "    <div class=\"colab-df-container\">\n",
              "      <div>\n",
              "<style scoped>\n",
              "    .dataframe tbody tr th:only-of-type {\n",
              "        vertical-align: middle;\n",
              "    }\n",
              "\n",
              "    .dataframe tbody tr th {\n",
              "        vertical-align: top;\n",
              "    }\n",
              "\n",
              "    .dataframe thead th {\n",
              "        text-align: right;\n",
              "    }\n",
              "</style>\n",
              "<table border=\"1\" class=\"dataframe\">\n",
              "  <thead>\n",
              "    <tr style=\"text-align: right;\">\n",
              "      <th></th>\n",
              "      <th>alcohol</th>\n",
              "      <th>magnesium</th>\n",
              "    </tr>\n",
              "  </thead>\n",
              "  <tbody>\n",
              "    <tr>\n",
              "      <th>0</th>\n",
              "      <td>1.476811</td>\n",
              "      <td>1.796690</td>\n",
              "    </tr>\n",
              "    <tr>\n",
              "      <th>1</th>\n",
              "      <td>1.269775</td>\n",
              "      <td>1.399747</td>\n",
              "    </tr>\n",
              "    <tr>\n",
              "      <th>2</th>\n",
              "      <td>0.892240</td>\n",
              "      <td>-0.717283</td>\n",
              "    </tr>\n",
              "    <tr>\n",
              "      <th>3</th>\n",
              "      <td>1.440275</td>\n",
              "      <td>0.804332</td>\n",
              "    </tr>\n",
              "    <tr>\n",
              "      <th>4</th>\n",
              "      <td>1.050561</td>\n",
              "      <td>-1.312698</td>\n",
              "    </tr>\n",
              "  </tbody>\n",
              "</table>\n",
              "</div>\n",
              "      <button class=\"colab-df-convert\" onclick=\"convertToInteractive('df-2f2fd052-2ce4-4e5d-8e14-d4743f3c1afc')\"\n",
              "              title=\"Convert this dataframe to an interactive table.\"\n",
              "              style=\"display:none;\">\n",
              "        \n",
              "  <svg xmlns=\"http://www.w3.org/2000/svg\" height=\"24px\"viewBox=\"0 0 24 24\"\n",
              "       width=\"24px\">\n",
              "    <path d=\"M0 0h24v24H0V0z\" fill=\"none\"/>\n",
              "    <path d=\"M18.56 5.44l.94 2.06.94-2.06 2.06-.94-2.06-.94-.94-2.06-.94 2.06-2.06.94zm-11 1L8.5 8.5l.94-2.06 2.06-.94-2.06-.94L8.5 2.5l-.94 2.06-2.06.94zm10 10l.94 2.06.94-2.06 2.06-.94-2.06-.94-.94-2.06-.94 2.06-2.06.94z\"/><path d=\"M17.41 7.96l-1.37-1.37c-.4-.4-.92-.59-1.43-.59-.52 0-1.04.2-1.43.59L10.3 9.45l-7.72 7.72c-.78.78-.78 2.05 0 2.83L4 21.41c.39.39.9.59 1.41.59.51 0 1.02-.2 1.41-.59l7.78-7.78 2.81-2.81c.8-.78.8-2.07 0-2.86zM5.41 20L4 18.59l7.72-7.72 1.47 1.35L5.41 20z\"/>\n",
              "  </svg>\n",
              "      </button>\n",
              "      \n",
              "  <style>\n",
              "    .colab-df-container {\n",
              "      display:flex;\n",
              "      flex-wrap:wrap;\n",
              "      gap: 12px;\n",
              "    }\n",
              "\n",
              "    .colab-df-convert {\n",
              "      background-color: #E8F0FE;\n",
              "      border: none;\n",
              "      border-radius: 50%;\n",
              "      cursor: pointer;\n",
              "      display: none;\n",
              "      fill: #1967D2;\n",
              "      height: 32px;\n",
              "      padding: 0 0 0 0;\n",
              "      width: 32px;\n",
              "    }\n",
              "\n",
              "    .colab-df-convert:hover {\n",
              "      background-color: #E2EBFA;\n",
              "      box-shadow: 0px 1px 2px rgba(60, 64, 67, 0.3), 0px 1px 3px 1px rgba(60, 64, 67, 0.15);\n",
              "      fill: #174EA6;\n",
              "    }\n",
              "\n",
              "    [theme=dark] .colab-df-convert {\n",
              "      background-color: #3B4455;\n",
              "      fill: #D2E3FC;\n",
              "    }\n",
              "\n",
              "    [theme=dark] .colab-df-convert:hover {\n",
              "      background-color: #434B5C;\n",
              "      box-shadow: 0px 1px 3px 1px rgba(0, 0, 0, 0.15);\n",
              "      filter: drop-shadow(0px 1px 2px rgba(0, 0, 0, 0.3));\n",
              "      fill: #FFFFFF;\n",
              "    }\n",
              "  </style>\n",
              "\n",
              "      <script>\n",
              "        const buttonEl =\n",
              "          document.querySelector('#df-2f2fd052-2ce4-4e5d-8e14-d4743f3c1afc button.colab-df-convert');\n",
              "        buttonEl.style.display =\n",
              "          google.colab.kernel.accessAllowed ? 'block' : 'none';\n",
              "\n",
              "        async function convertToInteractive(key) {\n",
              "          const element = document.querySelector('#df-2f2fd052-2ce4-4e5d-8e14-d4743f3c1afc');\n",
              "          const dataTable =\n",
              "            await google.colab.kernel.invokeFunction('convertToInteractive',\n",
              "                                                     [key], {});\n",
              "          if (!dataTable) return;\n",
              "\n",
              "          const docLinkHtml = 'Like what you see? Visit the ' +\n",
              "            '<a target=\"_blank\" href=https://colab.research.google.com/notebooks/data_table.ipynb>data table notebook</a>'\n",
              "            + ' to learn more about interactive tables.';\n",
              "          element.innerHTML = '';\n",
              "          dataTable['output_type'] = 'display_data';\n",
              "          await google.colab.output.renderOutput(dataTable, element);\n",
              "          const docLink = document.createElement('div');\n",
              "          docLink.innerHTML = docLinkHtml;\n",
              "          element.appendChild(docLink);\n",
              "        }\n",
              "      </script>\n",
              "    </div>\n",
              "  </div>\n",
              "  "
            ]
          },
          "metadata": {},
          "execution_count": 15
        }
      ],
      "source": [
        "from sklearn import preprocessing\n",
        "\n",
        "#Для обучающей\n",
        "normalizer = preprocessing.StandardScaler()\n",
        "X_real_norm_np = normalizer.fit_transform(X_train[['alcohol', 'magnesium']])\n",
        "X_newTrain = pd.DataFrame(data=X_real_norm_np)\n",
        "X_newTrain.columns = ['alcohol', 'magnesium']\n",
        "X_newTrain.head()"
      ]
    },
    {
      "cell_type": "markdown",
      "metadata": {
        "id": "zBwoIRurt1-g"
      },
      "source": [
        "## 2. Исследуем реализованный алгоритм на точность"
      ]
    },
    {
      "cell_type": "code",
      "execution_count": 16,
      "metadata": {
        "id": "gRqIZg-tlGQr"
      },
      "outputs": [],
      "source": [
        "# Используем алгоритм brute, основанный на деревьях - он быстрее обучается"
      ]
    },
    {
      "cell_type": "code",
      "execution_count": 18,
      "metadata": {
        "id": "OCpBoLmUFfWV"
      },
      "outputs": [],
      "source": [
        "cv = KFold(n_splits=3)\n",
        "\n",
        "euclidean_score = knn_cross_val_score(\n",
        "    X=np.array(X_train),\n",
        "    y=np.array(Y_train),\n",
        "    k_list=np.arange(20) + 1,\n",
        "    scoring='accuracy',\n",
        "    cv=cv,\n",
        "    algorithm='brute',\n",
        "    metric='euclidean',\n",
        "    batch_size=1000\n",
        ")"
      ]
    },
    {
      "cell_type": "code",
      "execution_count": 19,
      "metadata": {
        "id": "BQyu2Y91FjSo"
      },
      "outputs": [],
      "source": [
        "cosine_score = knn_cross_val_score(\n",
        "    X=np.array(X_train),\n",
        "    y=np.array(Y_train),\n",
        "    k_list=np.arange(20) + 1,\n",
        "    scoring='accuracy',\n",
        "    cv=cv,\n",
        "    algorithm='brute',\n",
        "    metric='cosine',\n",
        "    batch_size=1000\n",
        ")"
      ]
    },
    {
      "cell_type": "code",
      "execution_count": 20,
      "metadata": {
        "colab": {
          "base_uri": "https://localhost:8080/",
          "height": 280
        },
        "id": "ka-SgWLdFKN8",
        "outputId": "6adf0b90-eac4-452c-837a-2fc5fb1e4740"
      },
      "outputs": [
        {
          "output_type": "display_data",
          "data": {
            "text/plain": [
              "<Figure size 432x288 with 1 Axes>"
            ],
            "image/png": "[encoded data removed]"
          },
          "metadata": {
            "needs_background": "light"
          }
        }
      ],
      "source": [
        "plt.plot(np.arange(20) + 1, [np.mean(x) for x in euclidean_score.values()])\n",
        "plt.plot(np.arange(20) + 1, [np.mean(x) for x in cosine_score.values()])\n",
        "plt.legend(['euclidean', 'cosine'])\n",
        "plt.xlabel('n_neighbors')\n",
        "plt.ylabel('mean accuracy')\n",
        "plt.show()"
      ]
    },
    {
      "cell_type": "markdown",
      "metadata": {
        "id": "9dcQpB7EF9PR"
      },
      "source": [
        "Косинусное расстояние дает более приличный результат, чем евклидова метрика для небольшого числа соседей (а большое число соседей нас скорее и не будет интересовать, так как оно даст не самый хороший результат). \n",
        "\n",
        "- Косинуское расстояние дает большую точность, скорее всего, потому, что оно отражает относительное, а не абсолютное сравнение размеров отдельных векторов. Таким образом, эта мера наиболее подходит для данных, где частота важнее абсолютных значений."
      ]
    },
    {
      "cell_type": "markdown",
      "metadata": {
        "id": "zaWY52LvueC4"
      },
      "source": [
        "Скачаем и импортируем `mlxtend` -- библиотеку для упрощенной реализации решающих поверхностей обученных классификаторов."
      ]
    },
    {
      "cell_type": "code",
      "execution_count": 21,
      "metadata": {
        "colab": {
          "base_uri": "https://localhost:8080/"
        },
        "id": "U_LxCIA6G6_j",
        "outputId": "774c0ca5-96cd-4a62-b49c-69118be54e7e"
      },
      "outputs": [
        {
          "output_type": "stream",
          "name": "stdout",
          "text": [
            "Looking in indexes: https://pypi.org/simple, https://us-python.pkg.dev/colab-wheels/public/simple/\n",
            "Requirement already satisfied: mlxtend in /usr/local/lib/python3.8/dist-packages (0.14.0)\n",
            "Requirement already satisfied: matplotlib>=1.5.1 in /usr/local/lib/python3.8/dist-packages (from mlxtend) (3.2.2)\n",
            "Requirement already satisfied: numpy>=1.10.4 in /usr/local/lib/python3.8/dist-packages (from mlxtend) (1.21.6)\n",
            "Requirement already satisfied: scipy>=0.17 in /usr/local/lib/python3.8/dist-packages (from mlxtend) (1.7.3)\n",
            "Requirement already satisfied: scikit-learn>=0.18 in /usr/local/lib/python3.8/dist-packages (from mlxtend) (1.0.2)\n",
            "Requirement already satisfied: pandas>=0.17.1 in /usr/local/lib/python3.8/dist-packages (from mlxtend) (1.3.5)\n",
            "Requirement already satisfied: setuptools in /usr/local/lib/python3.8/dist-packages (from mlxtend) (57.4.0)\n",
            "Requirement already satisfied: python-dateutil>=2.1 in /usr/local/lib/python3.8/dist-packages (from matplotlib>=1.5.1->mlxtend) (2.8.2)\n",
            "Requirement already satisfied: kiwisolver>=1.0.1 in /usr/local/lib/python3.8/dist-packages (from matplotlib>=1.5.1->mlxtend) (1.4.4)\n",
            "Requirement already satisfied: cycler>=0.10 in /usr/local/lib/python3.8/dist-packages (from matplotlib>=1.5.1->mlxtend) (0.11.0)\n",
            "Requirement already satisfied: pyparsing!=2.0.4,!=2.1.2,!=2.1.6,>=2.0.1 in /usr/local/lib/python3.8/dist-packages (from matplotlib>=1.5.1->mlxtend) (3.0.9)\n",
            "Requirement already satisfied: pytz>=2017.3 in /usr/local/lib/python3.8/dist-packages (from pandas>=0.17.1->mlxtend) (2022.6)\n",
            "Requirement already satisfied: six>=1.5 in /usr/local/lib/python3.8/dist-packages (from python-dateutil>=2.1->matplotlib>=1.5.1->mlxtend) (1.15.0)\n",
            "Requirement already satisfied: joblib>=0.11 in /usr/local/lib/python3.8/dist-packages (from scikit-learn>=0.18->mlxtend) (1.2.0)\n",
            "Requirement already satisfied: threadpoolctl>=2.0.0 in /usr/local/lib/python3.8/dist-packages (from scikit-learn>=0.18->mlxtend) (3.1.0)\n"
          ]
        }
      ],
      "source": [
        "!pip install mlxtend"
      ]
    },
    {
      "cell_type": "code",
      "execution_count": 22,
      "metadata": {
        "id": "iZyV-DwhIwW_"
      },
      "outputs": [],
      "source": [
        "import mlxtend"
      ]
    },
    {
      "cell_type": "code",
      "execution_count": 23,
      "metadata": {
        "id": "M5euZLCMlGQt",
        "outputId": "eedd3984-bf28-4557-a528-00e9b36ea1f2",
        "colab": {
          "base_uri": "https://localhost:8080/"
        }
      },
      "outputs": [
        {
          "output_type": "stream",
          "name": "stdout",
          "text": [
            "NN\tTrain\tTest\n",
            "1\t0.99\t0.69\t\n",
            "3\t0.83\t0.73\t\n",
            "5\t0.78\t0.67\t\n",
            "10\t0.76\t0.78\t\n",
            "15\t0.72\t0.73\t\n",
            "25\t0.71\t0.76\t\n"
          ]
        }
      ],
      "source": [
        "# Это для встроенного KNN\n",
        "from sklearn.neighbors import KNeighborsClassifier\n",
        "\n",
        "neighbours = [1, 3, 5, 10, 15, 25]\n",
        "TrainedClassifiers = []\n",
        "print('NN\\tTrain\\tTest')\n",
        "for k in neighbours:\n",
        "    print(k, end = '\\t')\n",
        "    clf = KNeighborsClassifier(n_neighbors=k)\n",
        "    clf.fit(X_newTrain, Y_train)\n",
        "    TrainedClassifiers.append(clf) # для подсказки 5 из задачи 1.5\n",
        "    for X_data, y_data in zip([X_newTrain, X_newTest], [Y_train, Y_test]):\n",
        "        y_predicted = clf.predict(X_data)\n",
        "        print(f\"{np.mean(y_predicted==y_data):.2f}\", end = '\\t')\n",
        "    print('')"
      ]
    },
    {
      "cell_type": "code",
      "execution_count": 24,
      "metadata": {
        "id": "rZdNFbBqlGQu",
        "outputId": "a7a19132-4598-4ad0-f01a-0da88d2432e0",
        "colab": {
          "base_uri": "https://localhost:8080/",
          "height": 1000
        }
      },
      "outputs": [
        {
          "output_type": "stream",
          "name": "stderr",
          "text": [
            "/usr/local/lib/python3.8/dist-packages/sklearn/base.py:450: UserWarning: X does not have valid feature names, but KNeighborsClassifier was fitted with feature names\n",
            "  warnings.warn(\n",
            "/usr/local/lib/python3.8/dist-packages/mlxtend/plotting/decision_regions.py:244: MatplotlibDeprecationWarning: Passing unsupported keyword arguments to axis() will raise a TypeError in 3.3.\n",
            "  ax.axis(xmin=xx.min(), xmax=xx.max(), y_min=yy.min(), y_max=yy.max())\n",
            "/usr/local/lib/python3.8/dist-packages/sklearn/base.py:450: UserWarning: X does not have valid feature names, but KNeighborsClassifier was fitted with feature names\n",
            "  warnings.warn(\n",
            "/usr/local/lib/python3.8/dist-packages/mlxtend/plotting/decision_regions.py:244: MatplotlibDeprecationWarning: Passing unsupported keyword arguments to axis() will raise a TypeError in 3.3.\n",
            "  ax.axis(xmin=xx.min(), xmax=xx.max(), y_min=yy.min(), y_max=yy.max())\n",
            "/usr/local/lib/python3.8/dist-packages/sklearn/base.py:450: UserWarning: X does not have valid feature names, but KNeighborsClassifier was fitted with feature names\n",
            "  warnings.warn(\n",
            "/usr/local/lib/python3.8/dist-packages/mlxtend/plotting/decision_regions.py:244: MatplotlibDeprecationWarning: Passing unsupported keyword arguments to axis() will raise a TypeError in 3.3.\n",
            "  ax.axis(xmin=xx.min(), xmax=xx.max(), y_min=yy.min(), y_max=yy.max())\n",
            "/usr/local/lib/python3.8/dist-packages/sklearn/base.py:450: UserWarning: X does not have valid feature names, but KNeighborsClassifier was fitted with feature names\n",
            "  warnings.warn(\n",
            "/usr/local/lib/python3.8/dist-packages/mlxtend/plotting/decision_regions.py:244: MatplotlibDeprecationWarning: Passing unsupported keyword arguments to axis() will raise a TypeError in 3.3.\n",
            "  ax.axis(xmin=xx.min(), xmax=xx.max(), y_min=yy.min(), y_max=yy.max())\n",
            "/usr/local/lib/python3.8/dist-packages/sklearn/base.py:450: UserWarning: X does not have valid feature names, but KNeighborsClassifier was fitted with feature names\n",
            "  warnings.warn(\n",
            "/usr/local/lib/python3.8/dist-packages/mlxtend/plotting/decision_regions.py:244: MatplotlibDeprecationWarning: Passing unsupported keyword arguments to axis() will raise a TypeError in 3.3.\n",
            "  ax.axis(xmin=xx.min(), xmax=xx.max(), y_min=yy.min(), y_max=yy.max())\n",
            "/usr/local/lib/python3.8/dist-packages/sklearn/base.py:450: UserWarning: X does not have valid feature names, but KNeighborsClassifier was fitted with feature names\n",
            "  warnings.warn(\n",
            "/usr/local/lib/python3.8/dist-packages/mlxtend/plotting/decision_regions.py:244: MatplotlibDeprecationWarning: Passing unsupported keyword arguments to axis() will raise a TypeError in 3.3.\n",
            "  ax.axis(xmin=xx.min(), xmax=xx.max(), y_min=yy.min(), y_max=yy.max())\n"
          ]
        },
        {
          "output_type": "display_data",
          "data": {
            "text/plain": [
              "<Figure size 1440x720 with 6 Axes>"
            ],
            "image/png": "[encoded data removed]"
          },
          "metadata": {
            "needs_background": "light"
          }
        }
      ],
      "source": [
        "from mlxtend.plotting import plot_decision_regions\n",
        "from itertools import product\n",
        "\n",
        "fig, axs = plt.subplots(nrows = 2, ncols = 3, figsize = (20, 10))\n",
        "\n",
        "for classifier, a in zip(TrainedClassifiers, product([0, 1], [0, 1, 2])):\n",
        "    ax = axs[a[0], a[1]]\n",
        "    plot_decision_regions(np.array(X_newTrain), np.array(Y_train), clf=classifier, legend=2, ax=ax)\n",
        "    ax.set_title('n_neighbours = ' + str(neighbours[3 * a[0] + a[1]]))\n",
        "plt.show()"
      ]
    },
    {
      "cell_type": "markdown",
      "metadata": {
        "id": "a8Hq_c4F6S3n"
      },
      "source": [
        "Самая высокая точность предсказания на тестовой выборке оказалсь для десяти соседей. Для этого числа получилось самое разумное соотношение точности на тренировочной и тестовой выборках. Для меньших значений нашего гиперпараметра (числа соседей) выходила высокая точность на тренировочной выборке, что может судить о переобучении модели -> низкая точность предсказания на тестовой выборке. При больших значениях числа соседей результат тоже не очень хороший, так как, на самом деле, у нас не так много данных (всего 178) и большое количество соседей, на которых мы смотрим, может сбивать наше предсказние: вдруг рядом с нашей точкой находится 5 зеленых точек (очень близко), тогда бы мы хотели сказать, что наше предсказание -- зеленый, но мы смотрим на 25 соседей, а не на пять, и может окзаться так, что подальше от рассматриваемой точки мы найдем скопление из 20 синих точек. Тогда нам придется раскрасить рассматриваемую точку в синий цвет. Проблема в том, что соседи дают одинаковый вклад в результат, вне зависимости от расстояния. Если уж мы хотим брать большое число соседей, то нужно уменьшать вклад от далеких точек и увеличиват от близких (например, ввести функцию, которая большая при маленьких значения расстояния и маленькая при больших значениях расстояния: что-то типо  𝑒−𝑟2 , и использовать ее как вескаждой точки относительно рассмариваемой).\n",
        "\n",
        "Касательно картинок: признак хорошего классификатора -- это отсутствие непонятных крошечных островков иного цвета, гладкость границ областей и остуствие узких зон. Смотря на распределние данных, хочется сказать, что посередине хотелось бы увидеть зеленое пятно, слева и слева-сверху должны быть оранжевые зоны, а в остальных местах -- синие. Самые гладкие и приятные на взгляд границы получились для 25 соседей, но при этом мы видим явную несправедливость по отношению к зеленому цвету в центре картинки, а также хотелось бы, чтобы слева-сверху все-таки была оранжевая зона, а не синяя. Под наибольшее количество вышеупомянутых мной критериев, на мой взгляд, попадает картинка для десяти соседей. Единственная ее проблема в том, что нижний правый угол зеленый, а хотелось бы видеть его синим."
      ]
    },
    {
      "cell_type": "markdown",
      "metadata": {
        "id": "7rXJeZvs6S3n"
      },
      "source": [
        "- Хороший результат при $k = 10$ довольно логичен -- при большом числе соседей мы можем учитывать элементы из другого цвета, т.е. для прогнозирования при большем $k$ учитывается больше разнородных экземпляров, что усложняет прогнозирование. При этом, для малых $k$ решающая поверхность не гладкая "
      ]
    },
    {
      "cell_type": "markdown",
      "metadata": {
        "id": "MvYAhw2TSpEH"
      },
      "source": [
        "# Сравним со встроенным KNN"
      ]
    },
    {
      "cell_type": "code",
      "execution_count": 25,
      "metadata": {
        "id": "pTvYh0zbS2q2"
      },
      "outputs": [],
      "source": [
        "from sklearn.neighbors import KNeighborsClassifier"
      ]
    },
    {
      "cell_type": "code",
      "execution_count": 26,
      "metadata": {
        "colab": {
          "base_uri": "https://localhost:8080/"
        },
        "id": "6eOyxkn3TE6T",
        "outputId": "d4f9b237-fa99-448e-fb27-88ba654c6eaa"
      },
      "outputs": [
        {
          "output_type": "stream",
          "name": "stdout",
          "text": [
            "NN\tTrain\tTest\n",
            "1\t0.99\t0.69\t\n",
            "3\t0.83\t0.73\t\n",
            "5\t0.78\t0.67\t\n",
            "10\t0.76\t0.78\t\n",
            "15\t0.72\t0.73\t\n",
            "25\t0.71\t0.76\t\n"
          ]
        }
      ],
      "source": [
        "neighbours = [1, 3, 5, 10, 15, 25]\n",
        "TrainedClassifiers = []\n",
        "print('NN\\tTrain\\tTest')\n",
        "for k in neighbours:\n",
        "    print(k, end = '\\t')\n",
        "    clf = KNeighborsClassifier(n_neighbors=k)\n",
        "    clf.fit(X_newTrain, Y_train)\n",
        "    TrainedClassifiers.append(clf) \n",
        "    for X_data, y_data in zip([X_newTrain, X_newTest], [Y_train, Y_test]):\n",
        "        y_predicted = clf.predict(X_data)\n",
        "        print(f\"{np.mean(y_predicted==y_data):.2f}\", end = '\\t')\n",
        "    print('')"
      ]
    },
    {
      "cell_type": "markdown",
      "metadata": {
        "id": "chmE6Jxiunag"
      },
      "source": [
        "Получаем ровно те же результаты, что и были у нас для реализованного нами KNN"
      ]
    },
    {
      "cell_type": "markdown",
      "metadata": {
        "id": "COqlXbWklGQv"
      },
      "source": [
        "## Теперь сравним KNN с более сложной моделью - RandomForest"
      ]
    },
    {
      "cell_type": "code",
      "execution_count": 27,
      "metadata": {
        "id": "l-kSAJuRlGQv",
        "colab": {
          "base_uri": "https://localhost:8080/"
        },
        "outputId": "c7d621e4-57f6-43fc-ecb4-379350656897"
      },
      "outputs": [
        {
          "output_type": "stream",
          "name": "stdout",
          "text": [
            "(506, 14)\n"
          ]
        }
      ],
      "source": [
        "from mlxtend.data import boston_housing_data\n",
        "X, y = boston_housing_data()\n",
        "X_train, X_test, y_train, y_test = train_test_split(X, y,\n",
        "                                                    test_size = 0.3,\n",
        "                                                    random_state = 123,\n",
        "                                                    shuffle = True)\n",
        "\n",
        "X_train, X_test, y_train, y_test = train_test_split(X, y, test_size = 0.3, random_state = 123)"
      ]
    },
    {
      "cell_type": "code",
      "execution_count": 28,
      "metadata": {
        "id": "-zMH4PAflGQw",
        "outputId": "a2b07fc7-9e61-4d1e-9cc6-cb392359bd62",
        "colab": {
          "base_uri": "https://localhost:8080/"
        }
      },
      "outputs": [
        {
          "output_type": "stream",
          "name": "stdout",
          "text": [
            "MSE_train: 0.000000\n",
            "MSE_test: 20.290263\n"
          ]
        }
      ],
      "source": [
        "from sklearn.tree import DecisionTreeRegressor\n",
        "from sklearn.metrics import mean_squared_error\n",
        "\n",
        "# TODO: обучите решающее дерево без ограничений на тренировочной выборке\n",
        "dt = DecisionTreeRegressor()\n",
        "dt.fit(X_train, y_train)\n",
        "\n",
        "# TODO: рассчитайте MSE на тренировочной и тестовой выборках\n",
        "print('MSE_train: %f' % mean_squared_error(y_train, dt.predict(X_train)))\n",
        "print('MSE_test: %f' % mean_squared_error(y_test, dt.predict(X_test)))"
      ]
    },
    {
      "cell_type": "markdown",
      "source": [
        "Переобучена, так как нет ограничений"
      ],
      "metadata": {
        "id": "-IKVAEHC7Zep"
      }
    },
    {
      "cell_type": "code",
      "execution_count": 30,
      "metadata": {
        "id": "Rcs0SovolGQw",
        "outputId": "1c9662a6-ae1e-4d98-ec6a-a4052e93d1ac",
        "colab": {
          "base_uri": "https://localhost:8080/"
        }
      },
      "outputs": [
        {
          "output_type": "stream",
          "name": "stdout",
          "text": [
            "MSE_train: 1.693583\n",
            "MSE_test: 15.360990\n"
          ]
        }
      ],
      "source": [
        "from sklearn.ensemble import RandomForestRegressor\n",
        "\n",
        "base_tree = DecisionTreeRegressor(random_state = 123)\n",
        "\n",
        "# Обучим случайный лес с 20 деревьями, каждое из которых строится без ограничений\n",
        "rf = RandomForestRegressor(n_estimators = 20)\n",
        "# Рассчитаем MSE на тренировочной и тестовой выборках для случайного леса\n",
        "rf.fit(X_train, y_train)\n",
        "print('MSE_train: %f' % mean_squared_error(y_train, rf.predict(X_train)))\n",
        "print('MSE_test: %f' % mean_squared_error(y_test, rf.predict(X_test)))"
      ]
    },
    {
      "cell_type": "code",
      "execution_count": 31,
      "metadata": {
        "id": "KrCDFQIMlGQx",
        "outputId": "84cdd11a-541c-4e93-875e-5149e4e15f9f",
        "colab": {
          "base_uri": "https://localhost:8080/",
          "height": 442
        }
      },
      "outputs": [
        {
          "output_type": "display_data",
          "data": {
            "text/plain": [
              "<Figure size 720x504 with 1 Axes>"
            ],
            "image/png": "[encoded data removed]"
          },
          "metadata": {
            "needs_background": "light"
          }
        }
      ],
      "source": [
        "# Построим зависимость MSE от количества деревьев\n",
        "n_trees = 100\n",
        "train_loss = []\n",
        "test_loss = []\n",
        "\n",
        "for i in range(1, n_trees):\n",
        "    rf = RandomForestRegressor(n_estimators = i, random_state = 123)\n",
        "    rf.fit(X_train, y_train)\n",
        "    train_loss.append(mean_squared_error(y_train, rf.predict(X_train)))\n",
        "    test_loss.append(mean_squared_error(y_test, rf.predict(X_test)))\n",
        "    \n",
        "plt.figure(figsize = (10, 7))\n",
        "plt.grid()\n",
        "plt.plot(train_loss, label = 'MSE_train')\n",
        "plt.plot(test_loss, label = 'MSE_test')\n",
        "plt.ylabel('MSE')\n",
        "plt.xlabel('# trees')\n",
        "plt.legend();"
      ]
    },
    {
      "cell_type": "markdown",
      "metadata": {
        "id": "w-PgEzuxlGQx"
      },
      "source": [
        "Как и ожидалось, по достижении некоторого числа деревьев обе ошибки практически не изменяются, то есть переобучения при росте числа деревьев не происходит.\n",
        "\n",
        "Однако обычно при изменении какого-нибудь другого параметра на реальных данных переобучение может произойти. Например, случайный лес с ограниченными по глубине деревьями может предсказывать более точно, чем лес без ограничений.\n",
        "\n",
        "В нашем же случае случайный лес, скорее, лишь страдает от регуляризации. Например, посмотрим на поведение модели при изменении максимальной глубины деревьев."
      ]
    },
    {
      "cell_type": "code",
      "execution_count": 32,
      "metadata": {
        "id": "o6C4XA30lGQx",
        "outputId": "18a76a2c-d4e4-4ef3-a66c-341cb47ab839",
        "colab": {
          "base_uri": "https://localhost:8080/",
          "height": 443
        }
      },
      "outputs": [
        {
          "output_type": "display_data",
          "data": {
            "text/plain": [
              "<Figure size 720x504 with 1 Axes>"
            ],
            "image/png": "[encoded data removed]"
          },
          "metadata": {
            "needs_background": "light"
          }
        }
      ],
      "source": [
        "# От максимальной глубина\n",
        "max_depth = 40\n",
        "train_loss = []\n",
        "test_loss = []\n",
        "\n",
        "for i in range(1, max_depth):\n",
        "    rf = RandomForestRegressor(n_estimators = 20, max_depth = i, random_state = 123)\n",
        "    rf.fit(X_train, y_train)\n",
        "    train_loss.append(mean_squared_error(y_train, rf.predict(X_train)))\n",
        "    test_loss.append(mean_squared_error(y_test, rf.predict(X_test)))\n",
        "    \n",
        "plt.figure(figsize = (10, 7))\n",
        "plt.grid()\n",
        "plt.plot(train_loss, label = 'MSE_train')\n",
        "plt.plot(test_loss, label = 'MSE_test')\n",
        "plt.ylabel('MSE')\n",
        "plt.xlabel('max_depth')\n",
        "plt.legend();"
      ]
    },
    {
      "cell_type": "markdown",
      "source": [
        "Переобучение не наблюдается. Вообще же, гиперпараметры случайного леса стоит подбирать на кросс-валидации\n",
        "\n",
        "P.S. как отбирать признаки по важности на основе обучения дерева: чем больше разбиений происходило по конкретному признаку, тем более он важен"
      ],
      "metadata": {
        "id": "kcNkkzZd7lyt"
      }
    },
    {
      "cell_type": "code",
      "execution_count": 33,
      "metadata": {
        "colab": {
          "base_uri": "https://localhost:8080/"
        },
        "id": "4vlt7wzU6S3q",
        "outputId": "b1063388-8db2-46a2-8819-b57ee2c87b24"
      },
      "outputs": [
        {
          "output_type": "stream",
          "name": "stderr",
          "text": [
            "/usr/local/lib/python3.8/dist-packages/sklearn/utils/deprecation.py:87: FutureWarning: Function load_boston is deprecated; `load_boston` is deprecated in 1.0 and will be removed in 1.2.\n",
            "\n",
            "    The Boston housing prices dataset has an ethical problem. You can refer to\n",
            "    the documentation of this function for further details.\n",
            "\n",
            "    The scikit-learn maintainers therefore strongly discourage the use of this\n",
            "    dataset unless the purpose of the code is to study and educate about\n",
            "    ethical issues in data science and machine learning.\n",
            "\n",
            "    In this special case, you can fetch the dataset from the original\n",
            "    source::\n",
            "\n",
            "        import pandas as pd\n",
            "        import numpy as np\n",
            "\n",
            "\n",
            "        data_url = \"http://lib.stat.cmu.edu/datasets/boston\"\n",
            "        raw_df = pd.read_csv(data_url, sep=\"\\s+\", skiprows=22, header=None)\n",
            "        data = np.hstack([raw_df.values[::2, :], raw_df.values[1::2, :2]])\n",
            "        target = raw_df.values[1::2, 2]\n",
            "\n",
            "    Alternative datasets include the California housing dataset (i.e.\n",
            "    :func:`~sklearn.datasets.fetch_california_housing`) and the Ames housing\n",
            "    dataset. You can load the datasets as follows::\n",
            "\n",
            "        from sklearn.datasets import fetch_california_housing\n",
            "        housing = fetch_california_housing()\n",
            "\n",
            "    for the California housing dataset and::\n",
            "\n",
            "        from sklearn.datasets import fetch_openml\n",
            "        housing = fetch_openml(name=\"house_prices\", as_frame=True)\n",
            "\n",
            "    for the Ames housing dataset.\n",
            "    \n",
            "  warnings.warn(msg, category=FutureWarning)\n"
          ]
        }
      ],
      "source": [
        "# Просто чтобы подгрузить названия признаков\n",
        "from sklearn.datasets import load_boston\n",
        "data = load_boston()"
      ]
    },
    {
      "cell_type": "code",
      "execution_count": 34,
      "metadata": {
        "colab": {
          "base_uri": "https://localhost:8080/",
          "height": 428
        },
        "id": "OLOf9Ghs6S3r",
        "outputId": "334d87fa-0d73-4bc6-f654-3245f2b08b2c"
      },
      "outputs": [
        {
          "output_type": "display_data",
          "data": {
            "text/plain": [
              "<Figure size 720x504 with 1 Axes>"
            ],
            "image/png": "[encoded data removed]"
          },
          "metadata": {
            "needs_background": "light"
          }
        }
      ],
      "source": [
        "plt.figure(figsize = (10, 7))\n",
        "plt.bar(data['feature_names'], rf.feature_importances_);"
      ]
    },
    {
      "cell_type": "markdown",
      "source": [
        "Посмотреть что это за признаки!"
      ],
      "metadata": {
        "id": "-1N_iHi274zj"
      }
    },
    {
      "cell_type": "code",
      "execution_count": 35,
      "metadata": {
        "id": "t0_0qNbXlGQy"
      },
      "outputs": [],
      "source": [
        "from sklearn.neighbors import KNeighborsRegressor"
      ]
    },
    {
      "cell_type": "markdown",
      "source": [
        "Для деревьев абсолютно не важна нормализация, а вот для метрических методов важна"
      ],
      "metadata": {
        "id": "MiDf4ZHF78JK"
      }
    },
    {
      "cell_type": "code",
      "execution_count": 36,
      "metadata": {
        "id": "9_7KvP2x6S3r"
      },
      "outputs": [],
      "source": [
        "from sklearn.preprocessing import StandardScaler\n",
        "\n",
        "sc = StandardScaler()\n",
        "X_train_scaled = pd.DataFrame(data=sc.fit_transform(X_train), columns=data['feature_names'])\n",
        "X_test_scaled = pd.DataFrame(data=sc.transform(X_test), columns=data['feature_names'])"
      ]
    },
    {
      "cell_type": "code",
      "execution_count": 37,
      "metadata": {
        "id": "2RYVkG-FlGQy"
      },
      "outputs": [],
      "source": [
        "knn_regressor = KNeighborsRegressor(n_neighbors=5)"
      ]
    },
    {
      "cell_type": "code",
      "execution_count": 38,
      "metadata": {
        "id": "j5j3MFxflGQy",
        "outputId": "033ab703-7712-48c4-c906-739d3cc20efa",
        "colab": {
          "base_uri": "https://localhost:8080/"
        }
      },
      "outputs": [
        {
          "output_type": "stream",
          "name": "stdout",
          "text": [
            "MSE_train: 11.870850\n",
            "MSE_test: 29.786682\n"
          ]
        }
      ],
      "source": [
        "knn_regressor.fit(X_train_scaled, y_train)\n",
        "print('MSE_train: %f' % mean_squared_error(y_train, knn_regressor.predict(X_train_scaled)))\n",
        "print('MSE_test: %f' % mean_squared_error(y_test, knn_regressor.predict(X_test_scaled)))"
      ]
    },
    {
      "cell_type": "markdown",
      "source": [
        "Подберем оптимальное количество соседей"
      ],
      "metadata": {
        "id": "_dRYdGcz8APE"
      }
    },
    {
      "cell_type": "code",
      "execution_count": 39,
      "metadata": {
        "id": "UI7HhSyMlGQz"
      },
      "outputs": [],
      "source": [
        "X_train_train, X_train_val, y_train_train, y_train_val = train_test_split(X_train_scaled, y_train, \n",
        "                                                                          test_size = 0.3, random_state = 123)"
      ]
    },
    {
      "cell_type": "code",
      "execution_count": 40,
      "metadata": {
        "id": "V6D3uJrQlGQz"
      },
      "outputs": [],
      "source": [
        "errors = []\n",
        "K = 25\n",
        "for k in range(1, K):\n",
        "    knn_regressor = KNeighborsRegressor(n_neighbors=k)\n",
        "    knn_regressor.fit(X_train_train, y_train_train)\n",
        "    errors.append(mean_squared_error(y_train_val, knn_regressor.predict(X_train_val)))"
      ]
    },
    {
      "cell_type": "code",
      "execution_count": 41,
      "metadata": {
        "colab": {
          "base_uri": "https://localhost:8080/",
          "height": 443
        },
        "id": "6jsKw0CE6S3t",
        "outputId": "f0196d90-5bcb-477d-9ebf-a9cd46bfda61"
      },
      "outputs": [
        {
          "output_type": "display_data",
          "data": {
            "text/plain": [
              "<Figure size 720x504 with 1 Axes>"
            ],
            "image/png": "[encoded data removed]"
          },
          "metadata": {
            "needs_background": "light"
          }
        }
      ],
      "source": [
        "plt.figure(figsize = (10, 7))\n",
        "plt.grid()\n",
        "plt.plot(errors, label = 'MSE')\n",
        "plt.ylabel('MSE')\n",
        "plt.xlabel('K_neighbours')\n",
        "plt.legend();"
      ]
    },
    {
      "cell_type": "code",
      "execution_count": 42,
      "metadata": {
        "colab": {
          "base_uri": "https://localhost:8080/"
        },
        "id": "LuQVGfw36S3u",
        "outputId": "3888d16e-0536-447e-cfd7-0a902ae760fe"
      },
      "outputs": [
        {
          "output_type": "execute_result",
          "data": {
            "text/plain": [
              "3"
            ]
          },
          "metadata": {},
          "execution_count": 42
        }
      ],
      "source": [
        "k = np.array(errors).argmin()\n",
        "k"
      ]
    },
    {
      "cell_type": "code",
      "execution_count": 43,
      "metadata": {
        "colab": {
          "base_uri": "https://localhost:8080/"
        },
        "id": "YOKhM35G6S3u",
        "outputId": "5bd73d40-6f79-4c8f-93d8-fd299f4298d5"
      },
      "outputs": [
        {
          "output_type": "stream",
          "name": "stdout",
          "text": [
            "MSE_train: 7.785035\n",
            "MSE_test: 30.768765\n"
          ]
        }
      ],
      "source": [
        "knn_regressor = KNeighborsRegressor(n_neighbors=3)\n",
        "knn_regressor.fit(X_train_scaled, y_train)\n",
        "print('MSE_train: %f' % mean_squared_error(y_train, knn_regressor.predict(X_train_scaled)))\n",
        "print('MSE_test: %f' % mean_squared_error(y_test, knn_regressor.predict(X_test_scaled)))"
      ]
    },
    {
      "cell_type": "markdown",
      "source": [
        "Все равно имеем результаты гораздо хуже, что логично - Knn довольно простая модель, обучения нет (мы просто запоминаем выборку и все)\n",
        "\n",
        "Интересно еще взгянуть на линейные модели, вдруг наша выборка хорошо линеаизуется:"
      ],
      "metadata": {
        "id": "H-dp-hpy8GYe"
      }
    },
    {
      "cell_type": "code",
      "execution_count": 44,
      "metadata": {
        "id": "1Hvv5DOU6S3u"
      },
      "outputs": [],
      "source": [
        "from sklearn.linear_model import LinearRegression, Ridge, Lasso"
      ]
    },
    {
      "cell_type": "code",
      "execution_count": 45,
      "metadata": {
        "colab": {
          "base_uri": "https://localhost:8080/"
        },
        "id": "cVsNkAEz6S3v",
        "outputId": "05d0a736-54b3-4c92-d58e-a057d3c96543"
      },
      "outputs": [
        {
          "output_type": "stream",
          "name": "stdout",
          "text": [
            "Train: 20.184336639873152\n",
            "Test: 28.40585481050823\n"
          ]
        }
      ],
      "source": [
        "lr = LinearRegression().fit(X_train_scaled, y_train)\n",
        "print (\"Train: {}\".format(mean_squared_error(y_train, lr.predict(X_train_scaled))))\n",
        "print (\"Test: {}\".format(mean_squared_error(y_test, lr.predict(X_test_scaled))))"
      ]
    },
    {
      "cell_type": "markdown",
      "source": [
        "Все еще хуже деревьев, но лучше knn - тут явно меньше переобучения, так как разница между ошибкой на трейне и на тесте не очень большая, в отличие от knn\n",
        "\n",
        "Попробуем еще с регуляризацией (штраф за большие веса, контролирует переобучение)"
      ],
      "metadata": {
        "id": "xEW2TmvD8SQO"
      }
    },
    {
      "cell_type": "code",
      "execution_count": 46,
      "metadata": {
        "colab": {
          "base_uri": "https://localhost:8080/"
        },
        "id": "qixvPNzH6S3w",
        "outputId": "97e6aeed-add3-4aea-94d5-267bd15e9942"
      },
      "outputs": [
        {
          "output_type": "execute_result",
          "data": {
            "text/plain": [
              "array([-0.9281326 ,  0.91733243,  0.51483834,  0.062497  , -1.6306264 ,\n",
              "        3.42029822, -0.2106865 , -2.81921261,  2.3080726 , -2.16656895,\n",
              "       -2.03787778,  0.5639928 , -3.50931538])"
            ]
          },
          "metadata": {},
          "execution_count": 46
        }
      ],
      "source": [
        "# Текущие коэффициенты\n",
        "lr.coef_"
      ]
    },
    {
      "cell_type": "code",
      "execution_count": 47,
      "metadata": {
        "colab": {
          "base_uri": "https://localhost:8080/"
        },
        "id": "tnbp-eDN6S3w",
        "outputId": "5e5215a2-5072-4908-956a-ac697ca32842"
      },
      "outputs": [
        {
          "output_type": "stream",
          "name": "stdout",
          "text": [
            "Train: 20.21903231049302\n",
            "Test: 28.501890807630833\n"
          ]
        },
        {
          "output_type": "execute_result",
          "data": {
            "text/plain": [
              "array([-0.88643584,  0.84339886,  0.34140132,  0.08557826, -1.46879005,\n",
              "        3.44383186, -0.22434407, -2.66025749,  1.93535732, -1.80606628,\n",
              "       -1.9928976 ,  0.55865734, -3.43407108])"
            ]
          },
          "metadata": {},
          "execution_count": 47
        }
      ],
      "source": [
        "ridge = Ridge(5).fit(X_train_scaled, y_train)\n",
        "print (\"Train: {}\".format(mean_squared_error(y_train, ridge.predict(X_train_scaled))))\n",
        "print (\"Test: {}\".format(mean_squared_error(y_test, ridge.predict(X_test_scaled))))\n",
        "ridge.coef_"
      ]
    },
    {
      "cell_type": "markdown",
      "source": [
        "Чуть хуже, но видим, что коэффициенты значительно уменьшились"
      ],
      "metadata": {
        "id": "_BZsVd138ZT0"
      }
    },
    {
      "cell_type": "code",
      "execution_count": 48,
      "metadata": {
        "colab": {
          "base_uri": "https://localhost:8080/"
        },
        "id": "hpaqaBsp6S3w",
        "outputId": "20acecf3-3874-48fa-d125-6120ba020e62"
      },
      "outputs": [
        {
          "output_type": "stream",
          "name": "stdout",
          "text": [
            "Train: 58.02319918069418\n",
            "Test: 59.01130233276886\n"
          ]
        },
        {
          "output_type": "execute_result",
          "data": {
            "text/plain": [
              "array([-0.        ,  0.        , -0.        ,  0.        , -0.        ,\n",
              "        1.18360119, -0.        ,  0.        , -0.        , -0.        ,\n",
              "       -0.        ,  0.        , -1.15201046])"
            ]
          },
          "metadata": {},
          "execution_count": 48
        }
      ],
      "source": [
        "lasso = Lasso(5).fit(X_train_scaled, y_train)\n",
        "print (\"Train: {}\".format(mean_squared_error(y_train, lasso.predict(X_train_scaled))))\n",
        "print (\"Test: {}\".format(mean_squared_error(y_test, lasso.predict(X_test_scaled))))\n",
        "lasso.coef_"
      ]
    },
    {
      "cell_type": "markdown",
      "source": [
        "Лассо в свойственной себе манере сильно занулил все веса при признаках, которая эта модель посчитала наименее важными\n",
        "\n",
        "Взглянем на важность признаков с точки зрения Lasso:"
      ],
      "metadata": {
        "id": "mdbm2EQD8cZ7"
      }
    },
    {
      "cell_type": "code",
      "execution_count": 49,
      "metadata": {
        "colab": {
          "base_uri": "https://localhost:8080/",
          "height": 428
        },
        "id": "WktpixWq6S3x",
        "outputId": "42eb8c4c-38fd-469e-e904-1078c794f1ce"
      },
      "outputs": [
        {
          "output_type": "display_data",
          "data": {
            "text/plain": [
              "<Figure size 720x504 with 1 Axes>"
            ],
            "image/png": "[encoded data removed]"
          },
          "metadata": {
            "needs_background": "light"
          }
        }
      ],
      "source": [
        "plt.figure(figsize = (10, 7))\n",
        "plt.bar(data['feature_names'], abs(lasso.coef_));"
      ]
    },
    {
      "cell_type": "markdown",
      "source": [
        "Заметим, что эта модель посчитала важными очти те же признаки, что и деревья - лидеры RM и LSTAT"
      ],
      "metadata": {
        "id": "1AgLVRtk8lqA"
      }
    },
    {
      "cell_type": "code",
      "execution_count": 50,
      "metadata": {
        "colab": {
          "base_uri": "https://localhost:8080/",
          "height": 428
        },
        "id": "m7t_W9p86S3y",
        "outputId": "b8aa95b0-b942-419a-a144-06507e0deb5e"
      },
      "outputs": [
        {
          "output_type": "display_data",
          "data": {
            "text/plain": [
              "<Figure size 720x504 with 1 Axes>"
            ],
            "image/png": "[encoded data removed]"
          },
          "metadata": {
            "needs_background": "light"
          }
        }
      ],
      "source": [
        "plt.figure(figsize = (10, 7))\n",
        "plt.bar(data['feature_names'], abs(ridge.coef_));"
      ]
    },
    {
      "cell_type": "markdown",
      "source": [
        "А вот Ridge не такой агрессивный, но лидеры те же"
      ],
      "metadata": {
        "id": "-5t1jbhl8vOI"
      }
    },
    {
      "cell_type": "code",
      "execution_count": 51,
      "metadata": {
        "colab": {
          "base_uri": "https://localhost:8080/",
          "height": 419
        },
        "id": "BUspfJnC6S3y",
        "outputId": "71f450bb-38f7-4448-b299-759de6fcd732"
      },
      "outputs": [
        {
          "output_type": "stream",
          "name": "stderr",
          "text": [
            "<ipython-input-51-fad2f8f10f10>:8: UserWarning: With alpha=0, this algorithm does not converge well. You are advised to use the LinearRegression estimator\n",
            "  lasso = Lasso(a).fit(X_train, y_train)\n",
            "/usr/local/lib/python3.8/dist-packages/sklearn/linear_model/_coordinate_descent.py:647: UserWarning: Coordinate descent with no regularization may lead to unexpected results and is discouraged.\n",
            "  model = cd_fast.enet_coordinate_descent(\n",
            "/usr/local/lib/python3.8/dist-packages/sklearn/linear_model/_coordinate_descent.py:647: ConvergenceWarning: Objective did not converge. You might want to increase the number of iterations, check the scale of the features or consider increasing regularisation. Duality gap: 3.573e+03, tolerance: 3.037e+00 Linear regression models with null weight for the l1 regularization term are more efficiently fitted using one of the solvers implemented in sklearn.linear_model.Ridge/RidgeCV instead.\n",
            "  model = cd_fast.enet_coordinate_descent(\n"
          ]
        },
        {
          "output_type": "display_data",
          "data": {
            "text/plain": [
              "<Figure size 432x288 with 1 Axes>"
            ],
            "image/png": "[encoded data removed]"
          },
          "metadata": {
            "needs_background": "light"
          }
        }
      ],
      "source": [
        "alpha = [0, 0.1, 1, 10, 100, 200]\n",
        "ridge_graph = []\n",
        "lasso_graph = []\n",
        "for a in alpha:\n",
        "    ridge = Ridge(a).fit(X_train, y_train)\n",
        "    norm1 = np.linalg.norm(ridge.coef_)\n",
        "    ridge_graph.append(norm1)\n",
        "    lasso = Lasso(a).fit(X_train, y_train)\n",
        "    norm2 = np.linalg.norm(lasso.coef_)\n",
        "    lasso_graph.append(norm2)\n",
        "\n",
        "x = np.array(alpha)\n",
        "y = np.array(ridge_graph)\n",
        "z = np.array(lasso_graph)\n",
        "\n",
        "plt.plot(x, y, 'c', linestyle = '-')\n",
        "plt.plot(x, z, 'magenta', linestyle = '-')\n",
        "plt.xlabel(\"Alpha\")\n",
        "plt.ylabel(\"Norm\") \n",
        "plt.title(\"Plots of Ridge and Lasso norms\")\n",
        "plt.legend(['Ridge', 'Lasso'])\n",
        "plt.grid()\n",
        "plt.show()"
      ]
    },
    {
      "cell_type": "markdown",
      "source": [
        "Из графика видно, что Lasso агрессивнее уменьшает веса\n",
        "\n",
        "Для Lasso-регрессии свойсвенна следующая картина: коэффициенты пропорциональны важности соответствующих признаков. Тогда\n",
        "менее значимые переменные будут давать маленький вклад, так как коэффициенты при них будут почти нулевыми, а более значимые\n",
        "признаки будут существенно влиять на предсказание. Как итог у нас будет некий отбор признаков."
      ],
      "metadata": {
        "id": "_I4y7qlW9TIU"
      }
    },
    {
      "cell_type": "code",
      "execution_count": 52,
      "metadata": {
        "colab": {
          "base_uri": "https://localhost:8080/"
        },
        "id": "Mplx0_mW6S3z",
        "outputId": "1e0a2f2c-7af4-429f-fb3f-494327bb1fb7"
      },
      "outputs": [
        {
          "output_type": "stream",
          "name": "stdout",
          "text": [
            "[2.e+02 1.e+02 1.e+01 1.e+00 1.e-01]\n"
          ]
        },
        {
          "output_type": "execute_result",
          "data": {
            "text/plain": [
              "array([[81.14515081, 96.08624275, 94.32636302, 87.23331912, 72.08416428],\n",
              "       [81.14515081, 96.08624275, 94.32636302, 87.23331912, 72.08416428],\n",
              "       [81.14515081, 96.08624275, 94.32636302, 87.23331912, 72.08416428],\n",
              "       [21.50399272, 32.99630906, 23.03885629, 32.01179017, 22.68778929],\n",
              "       [16.37767041, 29.37361658, 19.33025365, 29.51333935, 21.072129  ]])"
            ]
          },
          "metadata": {},
          "execution_count": 52
        }
      ],
      "source": [
        "from sklearn.linear_model import LassoCV\n",
        "\n",
        "reg = LassoCV(cv=5, alphas = [0.1, 1, 10, 100, 200]).fit(X_train_scaled, y_train)\n",
        "print(reg.alphas_) # в обратном порядке вывелось\n",
        "reg.mse_path_"
      ]
    },
    {
      "cell_type": "code",
      "execution_count": 53,
      "metadata": {
        "colab": {
          "base_uri": "https://localhost:8080/"
        },
        "id": "nMxFqgha6S3z",
        "outputId": "062256f2-1748-4e25-be7c-1f96ddfb6d82"
      },
      "outputs": [
        {
          "output_type": "execute_result",
          "data": {
            "text/plain": [
              "array([86.175048  , 86.175048  , 86.175048  , 26.44774751, 23.1334018 ])"
            ]
          },
          "metadata": {},
          "execution_count": 53
        }
      ],
      "source": [
        "np.array(list(map(lambda x: np.mean(x), reg.mse_path_)))"
      ]
    },
    {
      "cell_type": "markdown",
      "source": [
        "Итого оптимальный вариант - последний, то есть для alpha = 0.1"
      ],
      "metadata": {
        "id": "7Ad9czC09iVu"
      }
    },
    {
      "cell_type": "code",
      "execution_count": 55,
      "metadata": {
        "colab": {
          "base_uri": "https://localhost:8080/"
        },
        "id": "9_MT6OWR6S3z",
        "outputId": "b2d73bc8-cccb-4324-ea49-637c97bd1cf3"
      },
      "outputs": [
        {
          "output_type": "stream",
          "name": "stdout",
          "text": [
            "Train: 25.30291492027384\n",
            "Test: 35.51098770160136\n"
          ]
        },
        {
          "output_type": "execute_result",
          "data": {
            "text/plain": [
              "array([-0.00000000e+00,  0.00000000e+00, -0.00000000e+00,  0.00000000e+00,\n",
              "       -0.00000000e+00,  3.34690914e+00, -0.00000000e+00, -0.00000000e+00,\n",
              "       -0.00000000e+00, -1.76517845e-03, -1.37411953e+00,  0.00000000e+00,\n",
              "       -3.29454265e+00])"
            ]
          },
          "metadata": {},
          "execution_count": 55
        }
      ],
      "source": [
        "lasso = Lasso(1).fit(X_train_scaled,y_train)\n",
        "print (\"Train: {}\".format(mean_squared_error(y_train, lasso.predict(X_train_scaled))))\n",
        "print (\"Test: {}\".format(mean_squared_error(y_test, lasso.predict(X_test_scaled))))\n",
        "lasso.coef_"
      ]
    },
    {
      "cell_type": "markdown",
      "source": [
        "Вообще хуже, чем без регуляризации..."
      ],
      "metadata": {
        "id": "Z9t5wWSR9mzh"
      }
    }
  ],
  "metadata": {
    "colab": {
      "provenance": []
    },
    "kernelspec": {
      "display_name": "Python 3 (ipykernel)",
      "language": "python",
      "name": "python3"
    },
    "language_info": {
      "codemirror_mode": {
        "name": "ipython",
        "version": 3
      },
      "file_extension": ".py",
      "mimetype": "text/x-python",
      "name": "python",
      "nbconvert_exporter": "python",
      "pygments_lexer": "ipython3",
      "version": "3.9.7"
    }
  },
  "nbformat": 4,
  "nbformat_minor": 0
}